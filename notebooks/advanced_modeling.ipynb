{
  "cells": [
    {
      "cell_type": "markdown",
      "metadata": {},
      "source": [
        "# Advanced Modeling\n",
        "This notebook demonstrates how to train and evaluate more sophisticated models on the merged dataset."
      ]
    },
    {
      "cell_type": "code",
      "execution_count": null,
      "metadata": {},
      "outputs": [],
      "source": [
        "from pathlib import Path\n",
        "import pandas as pd\n",
        "from sklearn.model_selection import train_test_split, cross_val_score\n",
        "from sklearn.ensemble import RandomForestRegressor, GradientBoostingRegressor\n",
        "from sklearn.metrics import mean_squared_error"
      ]
    },
    {
      "cell_type": "code",
      "execution_count": null,
      "metadata": {},
      "outputs": [],
      "source": [
        "clean_dir = Path('Data/clean')\n",
        "acc = pd.read_csv(clean_dir / 'accommodation_facts_clean.csv')\n",
        "market = pd.read_csv(clean_dir / 'market_otb_clean.csv', parse_dates=['stay_date'])\n",
        "rates = pd.read_csv(clean_dir / 'rates_combined.csv', parse_dates=['stay_date', 'extract_date'])"
      ]
    },
    {
      "cell_type": "code",
      "execution_count": null,
      "metadata": {},
      "outputs": [],
      "source": [
        "rates_dest = rates.merge(acc[['bookingdotcom_id', 'travel_destination_name', 'stars']],\n",
        "                    on='bookingdotcom_id', how='left')\n",
        "agg_rates = rates_dest.groupby('travel_destination_name').agg(\n",
        "    avg_rate=('price_value', 'mean'), stars=('stars', 'mean'))\n",
        "agg_occ = market.groupby('travel_destination_name').agg(avg_occ=('average_occupancy', 'mean'))\n",
        "data = agg_rates.join(agg_occ).dropna()\n",
        "X = data[['avg_rate', 'stars']]\n",
        "y = data['avg_occ']"
      ]
    },
    {
      "cell_type": "code",
      "execution_count": null,
      "metadata": {},
      "outputs": [],
      "source": [
        "X_train, X_test, y_train, y_test = train_test_split(X, y, test_size=0.2, random_state=42)"
      ]
    },
    {
      "cell_type": "code",
      "execution_count": null,
      "metadata": {},
      "outputs": [],
      "source": [
        "rf = RandomForestRegressor(n_estimators=200, random_state=42)\n",
        "gb = GradientBoostingRegressor(random_state=42)\n",
        "\n",
        "for model in [rf, gb]:\n",
        "    cv_scores = cross_val_score(model, X_train, y_train, cv=5, scoring='neg_root_mean_squared_error')\n",
        "    print(model.__class__.__name__, 'CV RMSE:', -cv_scores.mean())"
      ]
    },
    {
      "cell_type": "code",
      "execution_count": null,
      "metadata": {},
      "outputs": [],
      "source": [
        "rf.fit(X_train, y_train)\n",
        "gb.fit(X_train, y_train)\n",
        "\n",
        "pred_rf = rf.predict(X_test)\n",
        "pred_gb = gb.predict(X_test)\n",
        "\n",
        "print('RF RMSE:', mean_squared_error(y_test, pred_rf, squared=False))\n",
        "print('GB RMSE:', mean_squared_error(y_test, pred_gb, squared=False))\n",
        "print('Feature importances:', dict(zip(X.columns, rf.feature_importances_)))"
      ]
    }
  ],
  "metadata": {
    "kernelspec": {
      "display_name": "Python 3",
      "language": "python",
      "name": "python3"
    },
    "language_info": {
      "name": "python",
      "pygments_lexer": "ipython3"
    }
  },
  "nbformat": 4,
  "nbformat_minor": 5
}
