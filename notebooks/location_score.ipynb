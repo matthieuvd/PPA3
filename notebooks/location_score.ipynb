{
 "cells": [
  {
   "cell_type": "markdown",
   "metadata": {},
   "source": [
    "# Destination Scoring\n",
    "This notebook joins occupancy and rate data to compute a simple score for each destination.\n"
   ]
  },
  {
   "cell_type": "code",
   "metadata": {},
   "source": [
    "from pathlib import Path\n",
    "import pandas as pd\n"
   ]
  },
  {
   "cell_type": "code",
   "metadata": {},
   "source": [
    "clean_dir = Path('Data/clean')\n",
    "acc = pd.read_csv(clean_dir / 'accommodation_facts_clean.csv')\n",
    "market = pd.read_csv(clean_dir / 'market_otb_clean.csv', parse_dates=['stay_date'])\n",
    "rates = pd.read_csv(clean_dir / 'rates_combined.csv', parse_dates=['stay_date', 'extract_date'])"
   ]
  },
  {
   "cell_type": "markdown",
   "metadata": {},
   "source": [
    "## Aggregate metrics by destination"
   ]
  },
  {
   "cell_type": "code",
   "metadata": {},
   "source": [
    "# Average rate per destination\n",
    "rates_with_dest = rates.merge(acc[['bookingdotcom_id','travel_destination_name']], on='bookingdotcom_id', how='left')\n",
    "dest_rate = rates_with_dest.groupby('travel_destination_name')['price_value'].mean()"
   ]
  },
  {
   "cell_type": "code",
   "metadata": {},
   "source": [
    "# Average occupancy per destination\n",
    "dest_occ = market.groupby('travel_destination_name')['average_occupancy'].mean()"
   ]
  },
  {
   "cell_type": "markdown",
   "metadata": {},
   "source": [
    "## Compute a combined score"
   ]
  },
  {
   "cell_type": "code",
   "metadata": {},
   "source": [
    "score = dest_rate.to_frame('avg_rate').join(dest_occ.to_frame('avg_occupancy'))\n",
    "score['score'] = score['avg_rate'] * score['avg_occupancy']\n",
    "score.sort_values('score', ascending=False).head()"
   ]
  }
 ],
 "metadata": {
  "kernelspec": {
   "display_name": "Python 3",
   "language": "python",
   "name": "python3"
  },
  "language_info": {
   "name": "python",
   "version": "3.11"
  }
 },
 "nbformat": 4,
 "nbformat_minor": 5
}
